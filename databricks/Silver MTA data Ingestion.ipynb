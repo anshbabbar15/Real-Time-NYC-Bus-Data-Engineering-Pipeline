{
 "cells": [
  {
   "cell_type": "code",
   "execution_count": 0,
   "metadata": {
    "application/vnd.databricks.v1+cell": {
     "cellMetadata": {
      "byteLimit": 2048000,
      "implicitDf": true,
      "rowLimit": 10000
     },
     "inputWidgets": {},
     "nuid": "56bfb576-51f2-41c3-a7f1-7f2c1375b7df",
     "showTitle": false,
     "tableResultSettingsMap": {},
     "title": ""
    }
   },
   "outputs": [
    {
     "data": {
      "text/plain": [
       "<pyspark.sql.streaming.query.StreamingQuery at 0x7f6b15cb46e0>"
      ]
     },
     "execution_count": 3,
     "metadata": {},
     "output_type": "execute_result"
    }
   ],
   "source": [
    "from pyspark.sql.functions import col, to_timestamp, to_date\n",
    "from pyspark.sql.types import IntegerType, DoubleType, LongType, TimestampType\n",
    "\n",
    "TRIP_UPDATES_BRONZE_PATH = \"dbfs:/mta_project/delta/bronze/trip_updates\"\n",
    "BUS_POSITIONS_BRONZE_PATH = \"dbfs:/mta_project/delta/bronze/bus_positions\"\n",
    "ALERTS_BRONZE_PATH = \"dbfs:/mta_project/delta/bronze/alerts\"\n",
    "\n",
    "TRIP_UPDATES_SILVER_CHECKPOINTS_PATH = \"dbfs:/mta_project/delta/silver_checkpoints/trip_updates\"\n",
    "BUS_POSITIONS_SILVER_CHECKPOINTS_PATH = \"dbfs:/mta_project/delta/silver_checkpoints/bus_positions\"\n",
    "ALERTS_SILVER_CHECKPOINTS_PATH = \"dbfs:/mta_project/delta/silver_checkpoints/alerts\"\n",
    "\n",
    "CATALOG_NAME = \"mta_databricks_ws\" \n",
    "SCHEMA_NAME = \"default\"\n",
    "\n",
    "TRIP_UPDATES_SILVER_TABLE_NAME = f\"{CATALOG_NAME}.{SCHEMA_NAME}.trip_updates_silver\"\n",
    "BUS_POSITIONS_SILVER_TABLE_NAME = f\"{CATALOG_NAME}.{SCHEMA_NAME}.bus_positions_silver\"\n",
    "ALERTS_SILVER_TABLE_NAME = f\"{CATALOG_NAME}.{SCHEMA_NAME}.alerts_silver\"\n",
    "\n",
    "(spark.readStream.format(\"delta\").load(TRIP_UPDATES_BRONZE_PATH)\n",
    "  .withColumn(\"start_date\", to_date(col(\"start_date\"), \"yyyyMMdd\"))\n",
    "  .withColumn(\"direction_id\", col(\"direction_id\").cast(IntegerType()))\n",
    "  .withColumn(\"trip_delay_seconds\", col(\"trip_delay_seconds\").cast(IntegerType()))\n",
    "  .withColumn(\"stop_sequence\", col(\"stop_sequence\").cast(IntegerType()))\n",
    "  .withColumn(\"update_timestamp\", to_timestamp(col(\"update_timestamp\").cast(LongType())))\n",
    "  .withColumn(\"arrival_time\", to_timestamp(col(\"arrival_time\").cast(LongType())))\n",
    "  .withColumn(\"departure_time\", to_timestamp(col(\"departure_time\").cast(LongType())))\n",
    "  .drop(\"kafka_timestamp\", \"message_type\")\n",
    "  .writeStream\n",
    "  .format(\"delta\")\n",
    "  .outputMode(\"append\")\n",
    "  .option(\"checkpointLocation\", TRIP_UPDATES_SILVER_CHECKPOINTS_PATH)\n",
    "  .trigger(availableNow=True)\n",
    "  .toTable(TRIP_UPDATES_SILVER_TABLE_NAME)\n",
    ")\n",
    "\n",
    "(spark.readStream.format(\"delta\").load(BUS_POSITIONS_BRONZE_PATH)\n",
    "  .withColumn(\"start_date\", to_date(col(\"start_date\"), \"yyyyMMdd\"))\n",
    "  .withColumn(\"direction_id\", col(\"direction_id\").cast(IntegerType()))\n",
    "  .withColumn(\"latitude\", col(\"latitude\").cast(DoubleType()))\n",
    "  .withColumn(\"longitude\", col(\"longitude\").cast(DoubleType()))\n",
    "  .withColumn(\"bearing\", col(\"bearing\").cast(DoubleType()))\n",
    "  .withColumn(\"event_timestamp\", to_timestamp(col(\"timestamp\").cast(LongType())))\n",
    "  .drop(\"kafka_timestamp\", \"message_type\", \"timestamp\") # Also drop the original timestamp string\n",
    "  .writeStream\n",
    "  .format(\"delta\")\n",
    "  .outputMode(\"append\")\n",
    "  .option(\"checkpointLocation\", BUS_POSITIONS_SILVER_CHECKPOINTS_PATH)\n",
    "  .trigger(availableNow=True)\n",
    "  .toTable(BUS_POSITIONS_SILVER_TABLE_NAME)\n",
    ")\n",
    "\n",
    "(spark.readStream.format(\"delta\").load(ALERTS_BRONZE_PATH)\n",
    "  .withColumn(\"start_time\", to_timestamp(col(\"start_time\").cast(LongType())))\n",
    "  .withColumn(\"end_time\", to_timestamp(col(\"end_time\").cast(LongType())))\n",
    "  .withColumn(\"trip_direction_id\", col(\"trip_direction_id\").cast(IntegerType()))\n",
    "  .withColumn(\"route_id\", coalesce(col(\"route_id\"), col(\"trip_route_id\")))\n",
    "  .drop(\"kafka_timestamp\", \"message_type\", \"trip_route_id\")\n",
    "  .writeStream\n",
    "  .format(\"delta\")\n",
    "  .outputMode(\"append\")\n",
    "  .option(\"checkpointLocation\", ALERTS_SILVER_CHECKPOINTS_PATH)\n",
    "  .trigger(availableNow=True)\n",
    "  .toTable(ALERTS_SILVER_TABLE_NAME)\n",
    ")"
   ]
  }
 ],
 "metadata": {
  "application/vnd.databricks.v1+notebook": {
   "computePreferences": null,
   "dashboards": [],
   "environmentMetadata": {
    "base_environment": "",
    "environment_version": "3"
   },
   "inputWidgetPreferences": null,
   "language": "python",
   "notebookMetadata": {
    "mostRecentlyExecutedCommandWithImplicitDF": {
     "commandId": 6197441140173252,
     "dataframes": [
      "_sqldf"
     ]
    },
    "pythonIndentUnit": 4
   },
   "notebookName": "Silver MTA data Ingestion",
   "widgets": {}
  },
  "language_info": {
   "name": "python"
  }
 },
 "nbformat": 4,
 "nbformat_minor": 0
}
